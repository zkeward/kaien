{
 "cells": [
  {
   "cell_type": "markdown",
   "metadata": {},
   "source": [
    "*  This program computes \n",
    "*                              the asset allocation problem of\n",
    "*                  1 riskfree asset with n>1 rsiky assets \n",
    "*                           Here we use the 5 industry port\n",
    "*  it differs from the L3_Allocation5.ipynb by impoising followin portfolio weights:\n",
    "*\n",
    "*                           a_1 <= w_1 <= b_1,\n",
    "*                           a_2 <= w_2 <= b_2,\n",
    "*                        ........................\n",
    "*                           a_5 <= w_5 <= b_5\n",
    "*                                                 "
   ]
  },
  {
   "cell_type": "code",
   "execution_count": 2,
   "metadata": {},
   "outputs": [
    {
     "name": "stdout",
     "output_type": "stream",
     "text": [
      "   \n",
      "\n",
      "Rsik avrersion and Optimal wight on the market \n",
      "\n",
      "        3.0000  0.6998  \n",
      " \n",
      "   \n",
      "\n",
      "The Optimal wights on the 5 assets \n",
      "\n",
      "[ 0.69542253  0.6604779   0.05889521  0.54013127 -0.93355514]\n",
      "   \n",
      "\n",
      "The rest is on riskfree asset \n",
      "\n",
      "[-0.02137177]\n"
     ]
    }
   ],
   "source": [
    "import pandas as pd                     # To load data, we use the package pandas\n",
    "import numpy as np\n",
    "import matplotlib.pyplot as plt\n",
    "\n",
    "import cvxopt                 # install it first by running: \"pip install cvxopt\" via Spyder\n",
    "from cvxopt import matrix, solvers\n",
    " \n",
    "%matplotlib inline\n",
    "\n",
    "# Load the data \n",
    "\n",
    "df = pd.read_excel('Factors_July26_July11.xlsx')        # It has 5 columns:  date, mkt, size, b/m, riskree rate\n",
    "                                                    # downloaded from Ken French's website\n",
    "df2 = pd.read_excel('Indu5_July26_July11.xlsx')       # return on 5 industry portfolios from Ken French's web \n",
    "\n",
    "mkt = df.loc[:,\"mkt\"]/100                       # Mkt excess return;  divided by 100 due to data are in %\n",
    "rf = df.loc[:,\"rate\"]/100\n",
    "\n",
    "R1 = df2.loc[:,'Indu1' : 'Indu5']/100        # extract the 5 industry returns, R1 is T by 5. \n",
    "\n",
    "R1 = np.array(R1)                         # convert list to array to apply np.functions\n",
    "rf = np.array(rf)                         # convert list to array to apply np.functions\n",
    "T = len(df)                               # The number of obs\n",
    "Re = np.ones((T,5))                           # creat storage for excess returns\n",
    "\n",
    "for i in range(5):\n",
    "    Re[:,i] = R1[:,i] - rf                # the excess return:  each indu substracts riskfree rate, Re[:,i]-rf\n",
    "\n",
    "mu5 = np.mean(Re, axis = 0)              # the mean taking each column of the matrix, a row vector of 25\n",
    "mu5 = mu5.T                              # make it a column vector\n",
    "V5 = np.cov(Re.T)                        # the covariance estimate, 25 by 25 \n",
    "\n",
    "VI = np.linalg.inv(V5)                     # The inverse of V\n",
    "\n",
    "# The optimal weights on the 5 risky aasets\n",
    "\n",
    "gamma = 3                             # The risk-averse coeff.\n",
    "\n",
    "w5 = 1/gamma*VI@mu5\n",
    "\n",
    "                        \n",
    "mu = mkt.mean()                          # The expected mkt excess return\n",
    "sig2 = mkt.var()                         # The var of the mkt excess return\n",
    "sigma = np.sqrt(sig2)                    # Its vol\n",
    "\n",
    "w = (1/gamma)*mu/sig2                     # The optimal weight on mkt\n",
    "\n",
    "print('   \\n')\n",
    "print('Rsik avrersion and Optimal wight on the market \\n')\n",
    "print('        {0:.4f}  {1:.4f}  \\n '.format(gamma,w))   \n",
    "print('   \\n')\n",
    "print('The Optimal wights on the 5 assets \\n')\n",
    "print(w5)   \n",
    "w_rf = 1 - np.dot(w5, np.ones((5,1)))\n",
    "print('   \\n')\n",
    "print('The rest is on riskfree asset \\n')\n",
    "print(w_rf)  "
   ]
  },
  {
   "cell_type": "code",
   "execution_count": 3,
   "metadata": {},
   "outputs": [
    {
     "name": "stdout",
     "output_type": "stream",
     "text": [
      "The Optimal wights on the 5 assets with constraints: 0 <=   <=.4 \n",
      "\n",
      "[[ 0.3333  0.1449  0.0009  0.4000  0.0000]]\n",
      "\n",
      " The Optimal wights on the 25 assets with no constraints, using Solvers instead of formula  \n",
      " \n",
      "[[ 0.6954  0.6605  0.0589  0.5401 -0.9336]]\n"
     ]
    }
   ],
   "source": [
    "# Compute the the Opt Port under bound constraints \n",
    "\n",
    "Q = gamma * V5        # the mapping of utility paramters into quadratic programming\n",
    "Q = matrix(Q)\n",
    "q = -mu5\n",
    "q = matrix(q)\n",
    "\n",
    "lb = np.ones((1, 5)) * 0.0                          # lower bound\n",
    "ub = np.ones((1, 5)) * 0.4                         # upper bound\n",
    "h = np.append(ub, lb, axis = 1)\n",
    "h = h.T\n",
    "h = matrix(h)\n",
    " \n",
    "G1 = np.eye(5)                           # identiy matrix of order 5\n",
    "G2 = - np.eye(5)\n",
    "G = np.append(G1, G2, axis = 0)\n",
    "G = matrix(G)\n",
    " \n",
    "\n",
    "solvers.options['show_progress'] = False  # this prevent print progress data\n",
    "                                          # we do not really need\n",
    "sol = solvers.qp(Q, q, G, h)     # Format:  solvers.qp(Q, q, G, h, A, b) \n",
    "sola = np.array(sol['x'])\n",
    "\n",
    "print('The Optimal wights on the 5 assets with constraints: 0 <=   <=.4 \\n')\n",
    "np.set_printoptions(formatter={'float': '{: 0.4f}'.format})\n",
    "print(sola.T)\n",
    "\n",
    "sol1 = solvers.qp(Q, q)          # using the solver for the unconstrained solution\n",
    "solb = np.array(sol1['x'])\n",
    "\n",
    "print('\\n The Optimal wights on the 5 assets with no constraints, using Solvers instead of formula  \\n ')\n",
    "print(solb.T)"
   ]
  },
  {
   "cell_type": "code",
   "execution_count": 12,
   "metadata": {},
   "outputs": [
    {
     "name": "stdout",
     "output_type": "stream",
     "text": [
      "The Annualized Sharpe ratios of the Opt Port and Mkt \n",
      "\n",
      "          0.4856   0.3963  \n",
      "\n"
     ]
    }
   ],
   "source": [
    "# Compute the Sharpe Ratio of the Opt Port and Mkt\n",
    "\n",
    "w5 = np.array((sola))\n",
    "\n",
    "w5.shape = (1,5)\n",
    "\n",
    "Port=np.ones((T,))             # define this T vector to store the returns on the portfolio\n",
    "\n",
    "Port[0] = np.dot(w5,Re[0]) + rf[0]      # return in the first period \n",
    "\n",
    "for t in range(T):\n",
    "    Port[t] = np.dot(w5,Re[t]) + rf[t]  \n",
    "\n",
    "ExPort = Port - rf                       # excess return of the optimla portfolio\n",
    "muP = ExPort.mean()\n",
    "sig2P = ExPort.var()\n",
    "sigP = np.sqrt(sig2P)\n",
    "SharpeP = np.sqrt(12)*muP/sigP\n",
    "\n",
    "# For the mkt\n",
    " \n",
    "Sharpe = np.sqrt(12)*mu/sigma\n",
    "\n",
    "print('The Annualized Sharpe ratios of the Opt Port and Mkt \\n')\n",
    "print('          {0:.4f}   {1:.4f}  \\n'.format(SharpeP, Sharpe)) "
   ]
  },
  {
   "cell_type": "code",
   "execution_count": 13,
   "metadata": {},
   "outputs": [
    {
     "name": "stdout",
     "output_type": "stream",
     "text": [
      "Terminal wealth in Opt Port and Mkt  \n",
      "\n",
      "4739.873038799331\n",
      "2540.3983705076002\n"
     ]
    }
   ],
   "source": [
    "# Compute the accu returns of the opt port and the mkt\n",
    "\n",
    "CC_Port = np.ones((T,))          # to store the accumulative returns   \n",
    "CC = np.ones((T,))          # to store the accumulative returns \n",
    "\n",
    "mkt2 = mkt + rf       # Add back riskfree rate to get pure mkt return\n",
    "\n",
    "CC_Port[0] = 1+Port[0]             # initial accu return\n",
    "CC[0] = 1 + mkt2[0]                 # initial accu return\n",
    "\n",
    "for t in range(T-1):\n",
    "    CC_Port[t+1] = CC_Port[t]*(1+Port[t+1])\n",
    "    CC[t+1] = CC[t]*(1+mkt2[t+1])\n",
    "    \n",
    "print('Terminal wealth in Opt Port and Mkt  \\n')\n",
    "print(CC_Port[T-1])  \n",
    "print(CC[T-1])  "
   ]
  },
  {
   "cell_type": "code",
   "execution_count": 14,
   "metadata": {},
   "outputs": [
    {
     "data": {
      "image/png": "[encoded data removed]",
      "text/plain": [
       "<Figure size 432x288 with 1 Axes>"
      ]
     },
     "metadata": {
      "needs_background": "light"
     },
     "output_type": "display_data"
    }
   ],
   "source": [
    "# plot the accu returns  \n",
    "\n",
    "p=plt.plot(CC_Port)\n",
    "p1 = plt.plot(CC)"
   ]
  },
  {
   "cell_type": "code",
   "execution_count": null,
   "metadata": {},
   "outputs": [],
   "source": [
    "##  An additonal analysis\n",
    "##   Compute the Opt Port under bound constraints & weights sum to 1\n",
    "\n",
    "A = np.ones((1,25),np.float64)        # make sure it is float, not integer\n",
    "A = matrix(A)\n",
    "b = 1.0\n",
    "b = matrix(b)\n",
    "\n",
    "sol = solvers.qp(Q, q, G, h,A,b)     # Format:  solvers.qp(Q, q, G, h, A, b) \n",
    "solc = np.array(sol['x'])\n",
    "\n",
    "print(solc.T)\n",
    "\n",
    "c = np.dot(A,solc)   # double check the weights sum to 1\n",
    "\n",
    "print(c)"
   ]
  },
  {
   "cell_type": "code",
   "execution_count": null,
   "metadata": {},
   "outputs": [],
   "source": []
  }
 ],
 "metadata": {
  "anaconda-cloud": {},
  "kernelspec": {
   "display_name": "Python 3",
   "language": "python",
   "name": "python3"
  },
  "language_info": {
   "codemirror_mode": {
    "name": "ipython",
    "version": 3
   },
   "file_extension": ".py",
   "mimetype": "text/x-python",
   "name": "python",
   "nbconvert_exporter": "python",
   "pygments_lexer": "ipython3",
   "version": "3.7.6"
  }
 },
 "nbformat": 4,
 "nbformat_minor": 1
}
