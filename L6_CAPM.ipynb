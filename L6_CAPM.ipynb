{
 "cells": [
  {
   "cell_type": "markdown",
   "metadata": {},
   "source": [
    "*  This program tests \n",
    "*   the CAPM by using monthly data of the Fama-French \n",
    "*   25 portfolios sorted by size and book-to-market   "
   ]
  },
  {
   "cell_type": "code",
   "execution_count": 1,
   "metadata": {},
   "outputs": [],
   "source": [
    "import pandas as pd                     # To load data, we use the package pandas\n",
    "import numpy as np\n",
    "import matplotlib.pyplot as plt\n",
    "import statsmodels.api as sm                      # We use this package to do estimation\n",
    "%matplotlib inline\n",
    "\n",
    "# Load the data \n",
    "\n",
    "df = pd.read_excel('Factors_July26_July11.xlsx')        # It has 5 columns:  date, mkt, size, b/m, riskree rate\n",
    "                                                    # downloaded from Ken French's website\n",
    "df2 = pd.read_excel('FF25_July26_July11.xlsx')       # return on 25 FF portfolios from Ken French's web\n",
    "\n",
    "mkt = df.loc[:,\"mkt\"]/100                       # Mkt excess return;  divided by 100 due to data are in %\n",
    "rf = df.loc[:,\"rate\"]/100\n",
    "\n",
    "R1 = df2.loc[:,'FF1' : 'FF25']/100        # extract the 25 returns, R1 is T by 25. \n",
    "\n",
    "R1 = np.array(R1)                         # convert list to array to apply np.functions\n",
    "rf = np.array(rf)                         # convert list to array to apply np.functions\n",
    "T = len(df)                               # The number of obs\n",
    "Re = np.ones((T,25))                           # creat storage for excess returns\n",
    "\n",
    "for i in range(25):\n",
    "    Re[:,i] = R1[:,i] - rf                # the excess return:  each indu substracts riskfree rate, Re[:,i]-rf\n",
    "\n",
    "\n",
    "# The Sharpe ratio of the mkt, needed later for computing the GRS test\n",
    "                        \n",
    "mu = mkt.mean()                          # The expected mkt excess return\n",
    "sig2 = mkt.var()                         # The var of the mkt excess return\n",
    "sigma = np.sqrt(sig2)                    # Its vol\n",
    "Sharpe = mu/sigma\n"
   ]
  },
  {
   "cell_type": "code",
   "execution_count": 2,
   "metadata": {},
   "outputs": [
    {
     "name": "stdout",
     "output_type": "stream",
     "text": [
      " Regression coefficents: alphas and betas  \n",
      "\n",
      "        -0.0057   1.6294\n",
      " \n",
      "        -0.0010   1.4576\n",
      " \n",
      "        0.0015   1.3813\n",
      " \n",
      "        0.0036   1.2960\n",
      " \n",
      "        0.0052   1.3918\n",
      " \n",
      "        -0.0019   1.2400\n",
      " \n",
      "        0.0015   1.2674\n",
      " \n",
      "        0.0030   1.1822\n",
      " \n",
      "        0.0031   1.2246\n",
      " \n",
      "        0.0035   1.3658\n",
      " \n",
      "        -0.0012   1.2708\n",
      " \n",
      "        0.0017   1.1250\n",
      " \n",
      "        0.0026   1.1437\n",
      " \n",
      "        0.0029   1.1278\n",
      " \n",
      "        0.0027   1.3819\n",
      " \n",
      "        0.0002   1.0680\n",
      " \n",
      "        0.0006   1.0973\n",
      " \n",
      "        0.0015   1.0970\n",
      " \n",
      "        0.0021   1.1705\n",
      " \n",
      "        0.0014   1.4371\n",
      " \n",
      "        -0.0001   0.9653\n",
      " \n",
      "        0.0002   0.9191\n",
      " \n",
      "        0.0004   0.9770\n",
      " \n",
      "        -0.0002   1.1284\n",
      " \n",
      "        -0.0102   1.2327\n",
      " \n",
      "  t-values or t-ratios    \n",
      "\n",
      "[[ -2.12788341  33.5707599 ]\n",
      " [ -0.45633547  36.23112499]\n",
      " [  0.92155537  45.03617735]\n",
      " [  2.25573409  45.11962246]\n",
      " [  2.80354337  41.21594363]\n",
      " [ -1.44840107  50.60161341]\n",
      " [  1.28952039  57.90390409]\n",
      " [  2.68910242  58.57535906]\n",
      " [  2.65143739  58.15418317]\n",
      " [  2.39030529  51.3043706 ]\n",
      " [ -1.15472811  67.90380027]\n",
      " [  2.23536579  80.34131021]\n",
      " [  3.21610464  76.95596562]\n",
      " [  3.06569188  66.08892354]\n",
      " [  2.03832675  56.85847713]\n",
      " [  0.25930328  82.46691149]\n",
      " [  0.93731706  97.08774458]\n",
      " [  2.11736834  82.82795508]\n",
      " [  2.2954564   69.60182127]\n",
      " [  1.03240849  56.5544164 ]\n",
      " [ -0.27118956 107.46948672]\n",
      " [  0.4278521  102.45232258]\n",
      " [  0.5832233   78.45711978]\n",
      " [ -0.196887    62.18340691]\n",
      " [ -2.84630745  18.79537565]]\n"
     ]
    }
   ],
   "source": [
    "# run regression of each asset on the mkt\n",
    "\n",
    "x = np.array(mkt) \n",
    "x.shape = (T,1)                 # make sure the dimentionality\n",
    "\n",
    "const = np.ones((T,1))          # The constant part\n",
    "xx = np.hstack((const,x))         # Add the constant part to x\n",
    "\n",
    "coeff = np.ones((25,2))           # to store all the alphas and betas\n",
    "tRatio = np.ones((25,2))           # to store all the t-ratios\n",
    "\n",
    "for i in range(25):\n",
    "    y = np.array(Re[:,i])              # The i-th excess asset return\n",
    "    y.shape = (T,1) \n",
    "    reg = sm.OLS(endog=y, exog=xx)\n",
    "    results = reg.fit()\n",
    "    coeff[i,:] = results.params           # paramter estimates, output of sm.OLS\n",
    "    tRatio[i,:] = results.tvalues           # t-ratios or t-values, output of sm.OLS\n",
    "\n",
    "              # paramter estimates, output of sm.OLS\n",
    "print(' Regression coefficents: alphas and betas  \\n')\n",
    "# print(coeff)\n",
    "\n",
    "for i in range(25):\n",
    "    print('        {0:.4f}   {1:.4f}\\n '.format(coeff[i,0], coeff[i,1])) \n",
    "print('  t-values or t-ratios    \\n')\n",
    "print(tRatio)\n",
    "\n"
   ]
  },
  {
   "cell_type": "code",
   "execution_count": 4,
   "metadata": {},
   "outputs": [
    {
     "name": "stdout",
     "output_type": "stream",
     "text": [
      " The qudatratic of the alphas (known also as pricing errors)   \n",
      "\n",
      "0.0980610118165522\n",
      "\n",
      "  The GRS test statistic   \n",
      "\n",
      "3.852415299646449\n",
      "\n",
      " The p-value   \n",
      "\n",
      "9.277036916444104e-10\n"
     ]
    }
   ],
   "source": [
    "# Compute the GRS test \n",
    "\n",
    "Alphas = coeff[:,0]\n",
    "Alphas.shape = (25,1)\n",
    "Betas = coeff[:,1]\n",
    "\n",
    "E = Re - xx*coeff.T            # The residuals\n",
    "Sigma = E.T*E / T              # The sample covariance matrix of the residuals \n",
    "SI = np.linalg.inv(Sigma)                # The inverse of Sigma\n",
    " \n",
    "Q1 = Alphas.T@SI@Alpha                   #  Q1 = Alpha'*Sigma^(-1)*Alpha = Alpha'*Qw \n",
    "\n",
    "Q = Q1.item()                             # make an array to a scalar ! \n",
    "\n",
    "N=25\n",
    "Theta2 = Sharpe*Sharpe\n",
    "GRS=((T-N-1)/N)*Q/(1+Theta2)\n",
    "\n",
    "from scipy.stats import f            # import the F-distribution function\n",
    "\n",
    "c = f.cdf(GRS,N,T-N-1)              # This compute the F-distribution, Prob ( x < GRS )\n",
    "GRSp=1-c                             #  P-value of the test decided by the F-distribution\n",
    "\n",
    "\n",
    "print(' The qudatratic of the alphas, known also as pricing errors)   \\n')\n",
    "print(Q)\n",
    "print('\\n  The GRS test statistic   \\n')\n",
    "print(GRS)\n",
    "print('\\n The p-value   \\n')\n",
    "print(GRSp)"
   ]
  },
  {
   "cell_type": "code",
   "execution_count": 4,
   "metadata": {},
   "outputs": [
    {
     "data": {
      "image/png": "[encoded data removed]",
      "text/plain": [
       "<Figure size 432x288 with 1 Axes>"
      ]
     },
     "metadata": {
      "needs_background": "light"
     },
     "output_type": "display_data"
    }
   ],
   "source": [
    "# plot the average returns vs betas\n",
    "\n",
    "mu5 = np.mean(Re, axis = 0)              # the mean taking each column of the matrix, a row vector of 25\n",
    "p=plt.plot(Betas,mu5*100,'ro')            # plot the raw data\n",
    "plt.ylabel('Return') \n",
    "plt.xlabel('Beta')\n",
    "plt.show()"
   ]
  },
  {
   "cell_type": "code",
   "execution_count": null,
   "metadata": {},
   "outputs": [],
   "source": []
  },
  {
   "cell_type": "code",
   "execution_count": null,
   "metadata": {},
   "outputs": [],
   "source": []
  }
 ],
 "metadata": {
  "anaconda-cloud": {},
  "kernelspec": {
   "display_name": "Python 3",
   "language": "python",
   "name": "python3"
  },
  "language_info": {
   "codemirror_mode": {
    "name": "ipython",
    "version": 3
   },
   "file_extension": ".py",
   "mimetype": "text/x-python",
   "name": "python",
   "nbconvert_exporter": "python",
   "pygments_lexer": "ipython3",
   "version": "3.7.6"
  }
 },
 "nbformat": 4,
 "nbformat_minor": 1
}
